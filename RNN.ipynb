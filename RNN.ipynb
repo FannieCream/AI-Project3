{
 "cells": [
  {
   "cell_type": "code",
   "execution_count": 59,
   "metadata": {},
   "outputs": [],
   "source": [
    "import pandas as pd\n",
    "import numpy as np\n",
    "import jieba\n",
    "import jieba.posseg as psg\n",
    "from pandas import DataFrame\n",
    "from sklearn.cross_validation import train_test_split\n",
    "from keras.utils import plot_model\n",
    "from keras.models import Sequential\n",
    "from keras.layers import SimpleRNN,LSTM,GRU ,Activation, Dense ,Embedding"
   ]
  },
  {
   "cell_type": "markdown",
   "metadata": {},
   "source": [
    "### Step 1 数据导入及数据预处理"
   ]
  },
  {
   "cell_type": "markdown",
   "metadata": {},
   "source": [
    "#### 1.1 数据导入"
   ]
  },
  {
   "cell_type": "code",
   "execution_count": 60,
   "metadata": {},
   "outputs": [],
   "source": [
    "data = pd.read_csv(\"data/sohu.csv\")"
   ]
  },
  {
   "cell_type": "code",
   "execution_count": 61,
   "metadata": {},
   "outputs": [
    {
     "data": {
      "text/plain": [
       "<bound method DataFrame.info of          label                                               text\n",
       "0          pic  高清：彭帅谢淑薇遗憾遭逆转出局 击掌互相鼓励责编:马克杰 日期:2013-10-4 彭帅谢淑...\n",
       "1         news  河南周口路边秸秆燃烧 2岁幼儿被熏晕(图)  10月3日下午,崔先生驾车去周口郸城县汲冢镇走...\n",
       "2         news  消息称138名中国劳工在菲律宾被抓 使馆正核实【使馆正核实情况】中国驻菲律宾大使馆发言人表示...\n",
       "3         news  越南重要军事领导人武元甲大将去世 享年102岁据美国媒体10月4日报道, 越南抗法、抗美战争...\n",
       "4         news  西沙搜救已发现6具遇难渔民遗体 尚有52人失踪【已发现6具遇难渔民遗体 尚有52人失踪】10...\n",
       "5          pic  10月4日十佳图：李娜小德球迷抢眼 大威显文静责编:马克杰 日期:2013-10-4 小德的...\n",
       "6          pic  高清：小德速胜高举双臂庆祝 鼓掌向球迷们致意责编:马克杰 日期:2013-10-4 小德鼓掌...\n",
       "7       sports  卡努特伤愈将首发战辽足 斯塔诺：辽足不好对付高清:国安踩场卡努特卖力 对抗赛神勇奔跑如风 (...\n",
       "8         news  美“宙斯盾”系统成功进行反导试验新华网华盛顿10月4日电(记者林小春)美国国防部4日宣布再次...\n",
       "9         news  3中国建筑工俄罗斯身亡【3中国建筑工俄罗斯身亡】俄伊尔库茨克州称,4日,1名中国建筑工人从在...\n",
       "10        news  山西煤矿透水事故排水5万立方米 仍有12人被困中新社汾阳10月4日电(张云)山西汾西矿业正升...\n",
       "11      sports  现场：彭帅暴力发球遭无视 主裁秀中文“谢谢”北京时间9月30日消息,总奖金额为5,185,6...\n",
       "12        news  扬州警方：一名游客在扬州博物馆自主坠楼身亡【一游客在扬州坠亡】扬州警方通报,今天下午4点多,...\n",
       "13         pic  高清：费雷尔爆冷负黯然离场 加斯奎特潇洒回球责编:马克杰 日期:2013-10-4 费雷尔离...\n",
       "14        news  国足新一期集训名单出炉 恒大八人入选新华网北京10月4日电(记者公兵、郑道锦)中国足协4日公...\n",
       "15        news  越南抗法、抗美战争重要军事领导人武元甲去世  人民日报无线新媒体:据美国媒体10月4日报道,...\n",
       "16      sports  客战莱万特皇马不容有失 劳尔二世或替大本首发北京时间10月6日凌晨2点,2013-2014赛...\n",
       "17    business  香港国际机场荣登TTG旅游大奖名人堂新华网香港10月4日电 香港国际机场4日消息,在今年的英...\n",
       "18         pic  高清：阿尔滨备战于汉超状态勇 陈涛于大宝缺席来源: 搜狐体育 责编:刘娱 日期:2013-1...\n",
       "19         pic  高清：国安踩场卡努特卖力 对抗赛神勇奔跑如风来源: 搜狐体育 日期:2013-10-4 高清...\n",
       "20      sports  男排亚锦赛-中国3-1逆转印度 半决赛战澳韩胜者北京时间10月4日,2013年第17届男排亚...\n",
       "21        news  房地产企业呼吁取消土地拍卖：不愿高价拿地新华社兰州10月4日专电(记者连振祥)在3日结束的“...\n",
       "22      sports  5日前瞻-小德小威纳达尔力争决赛 女双将出冠军北京时间10月5日,2013赛季中国网球公开赛...\n",
       "23        news  天津机场多措并举保障东亚运动会接待顺利中新网天津10月4日电(倪帅 王意)第六届东亚运动会将...\n",
       "24        news  旅客动车吸烟现象频现 南昌铁路局吁文明出行中新网福州10月4日电(龙敏 刘燕)连日来,旅游热...\n",
       "25      sports  小威胁抽烟被逮却自比齐祖 温格斥：犯双重错误《邮报》曝光威尔希尔夜店爽嗨照 最近 阿森纳 可...\n",
       "26         pic  高清：小威进中网女单四强 黑珍珠回球从容淡定责编:陈国庆 日期:2013-10-4 小威黄色...\n",
       "27      sports  克鲁尼奇：三人缺席阿尔滨靠整体 客场争取三分高清:阿尔滨备战于汉超状态勇 陈涛于大宝缺席 (...\n",
       "28         pic  高清：泰达踩场诸将喜笑颜开 周海滨射门玩凌空来源: 搜狐体育 责编:刘娱 日期:2013-1...\n",
       "29        news  这不是羊肉卷！“土豪婆家”送500万聘礼(图)图片来自微博 江南都市报:#江南微播报#【“土...\n",
       "...        ...                                                ...\n",
       "5891  business  出门旅游过大年——春节黄金周落幕新华社北京2月13日电 题:出门旅游过大年――春节黄金周落幕...\n",
       "5892  business  长三角高铁成网带动出游 春节假期发送旅客845.4万人中新网杭州2月13日电  (记者 施佳...\n",
       "5893      news  富二代载美女超速醉驾致5死 现场曝光(图)现场图 现场图 最新进展: 2月12日晚21:37...\n",
       "5894  business  上海实体商业回暖，春节消费市场同比增长8.2%新华社上海2月13日专电(记者周蕊)上海市商务...\n",
       "5895    sports  西媒曝厄齐尔拒续约枪手 巴萨或挖昔日皇马核心巴萨有意厄齐尔? 根据《马卡报》2月13日消息,...\n",
       "5896      yule  网友解读《美人鱼》24大细节 堪称二刷观影宝典《美人鱼》结尾邓超从天而降颇有“盖世英雄”气概...\n",
       "5897      news  春节期间全国火灾形势平稳为加强春节期间火灾防控工作,公安消防部队17万官兵实行等级战备,加大...\n",
       "5898  business  滴滴代驾公布春节十大聚会地 福州人春节赶场最忙中新网2月13日电  13日,滴滴代驾根据春节...\n",
       "5899      news  周小川：人民币没有持续贬值基础【 本文获财新传媒授权转载,未经财新传媒许可,不得转载。 】 ...\n",
       "5900    sports  京媒：中超诸强出手不软 国安依然“市场规律”昨天,前曼城前锋巴西人若来到南京,正式加盟江苏苏...\n",
       "5901  business  春节财经要闻回顾：全球市场惨跌 周小川力挺人民币刚过去的春节假期(2月7日-13日),发生了...\n",
       "5902  business  2015年中国游客境外消费约1.2万亿元　促消费回流任重道远新华社上海2月13日专电(记者 ...\n",
       "5903    sports  埃斯库德罗确认已与苏宁解约 深情致谢江苏球迷埃斯库德罗解约苏宁  北京时间2月13日,江苏苏...\n",
       "5904    sports  新主掌国米3年负债超4亿 莫拉蒂或因爱酝酿回购莫拉蒂或因爱酝酿回购国米 去年夏天,国际米兰砸...\n",
       "5905      news  外汇局2016年将加大对违规银行处罚新华社北京2月13日电(记者姜琳)国家外汇管理局管理检查...\n",
       "5906  business  “十三五”能源规划编制进入冲刺阶段新华社北京2月13日电(记者陈炜伟)国家能源局局长努尔·白...\n",
       "5907      news  中国多条主要公路交通受雨雪大雾等天气影响人民网北京2月13日电 据中央气象台消息,12日20...\n",
       "5908    sports  科比胜过乔丹? 麦蒂:飞侠乃我所遇过最优秀球员北京时间2月13日,据美媒体报道,在接受采访时...\n",
       "5909      news  北京周边高速受降雪影响大面积封路法制晚报讯(实习记者 张婷) 北京周边高速受降雪影响大面积封...\n",
       "5910       cul  阎 肃｜经典作品欣赏1.《我爱祖国的蓝天》 2.《红梅赞》             3.《绣...\n",
       "5911      news  香港正值冬季流感高峰期 12人死亡中新网2月13日电 据香港《大公报》报道,香港正值冬季流感...\n",
       "5912  business  煤价腰斩过半热费才降两三元 为何降得这么少？北方城市,冬日取暖是头等大事。去年入冬以来,国内...\n",
       "5913      news  大雾给节后返程交通“添堵”2月12日,正月初五,公铁空全面迎来春节返程高峰。11日夜间持续到...\n",
       "5914  business  低油价的代价：能源公司股票分红今年或降120亿美元金融数据提供商Markit发布股息预测(D...\n",
       "5915      news  中央气象台发布寒潮黄色预警 中东部大风强降温中新网2月13日电 中央气象台2月13日06时继...\n",
       "5916       pic  高清图：全明星接受采访 科比人气爆棚库里淡定责编:程逵达 日期:2016-2-13 科比回答...\n",
       "5917       pic  高清图：名人堂公布候选名单 姚明奥胖答案入围责编:程逵达 日期:2016-2-13 姚明握手...\n",
       "5918    sports  姚明秀幽默：地板能够承受我和奥尼尔体重吗？奥尼尔姚明 北京时间2月13日消息,来自《休斯顿纪...\n",
       "5919      news  美国科学家宣布发现引力波 广义相对论预言获证科学家在华盛顿宣布探测到引力波存在 供图/东方I...\n",
       "5920    sports  科比全明星谢幕！库里要送助攻 詹皇威少表忠心北京时间2月13日消息,来自《雅虎体育》的报道称...\n",
       "\n",
       "[5921 rows x 2 columns]>"
      ]
     },
     "execution_count": 61,
     "metadata": {},
     "output_type": "execute_result"
    }
   ],
   "source": [
    "data.info"
   ]
  },
  {
   "cell_type": "markdown",
   "metadata": {},
   "source": [
    "#### 1.2 查看label类型并转换成数值型"
   ]
  },
  {
   "cell_type": "code",
   "execution_count": 62,
   "metadata": {
    "scrolled": false
   },
   "outputs": [
    {
     "data": {
      "text/plain": [
       "array(['pic', 'news', 'sports', 'business', 'caipiao', 'yule', 'mil',\n",
       "       'cul'], dtype=object)"
      ]
     },
     "execution_count": 62,
     "metadata": {},
     "output_type": "execute_result"
    }
   ],
   "source": [
    "data['label'].unique()"
   ]
  },
  {
   "cell_type": "code",
   "execution_count": 63,
   "metadata": {
    "scrolled": false
   },
   "outputs": [
    {
     "data": {
      "text/plain": [
       "news        2989\n",
       "sports      1200\n",
       "business    1051\n",
       "pic          312\n",
       "yule         185\n",
       "mil           95\n",
       "caipiao       45\n",
       "cul           44\n",
       "Name: label, dtype: int64"
      ]
     },
     "execution_count": 63,
     "metadata": {},
     "output_type": "execute_result"
    }
   ],
   "source": [
    "data['label'].value_counts()"
   ]
  },
  {
   "cell_type": "code",
   "execution_count": 64,
   "metadata": {},
   "outputs": [],
   "source": [
    "#将pic,yule,mil,caipiao,cul合并成一个新的标签：others\n",
    "data['label'].replace('pic','others',inplace = True)\n",
    "data['label'].replace('yule','others',inplace = True)\n",
    "data['label'].replace('mil','others',inplace = True)\n",
    "data['label'].replace('caipiao','others',inplace = True)\n",
    "data['label'].replace('cul','others',inplace = True)"
   ]
  },
  {
   "cell_type": "code",
   "execution_count": 65,
   "metadata": {},
   "outputs": [
    {
     "data": {
      "text/plain": [
       "news        2989\n",
       "sports      1200\n",
       "business    1051\n",
       "others       681\n",
       "Name: label, dtype: int64"
      ]
     },
     "execution_count": 65,
     "metadata": {},
     "output_type": "execute_result"
    }
   ],
   "source": [
    "data['label'].value_counts()"
   ]
  },
  {
   "cell_type": "code",
   "execution_count": 66,
   "metadata": {},
   "outputs": [],
   "source": [
    "#将类型映射成数字，方便处理\n",
    "from sklearn import preprocessing\n",
    "\n",
    "le = preprocessing.LabelEncoder()\n",
    "le.fit(data['label'])\n",
    "data['label'] = le.transform(data['label'])"
   ]
  },
  {
   "cell_type": "code",
   "execution_count": 67,
   "metadata": {},
   "outputs": [],
   "source": [
    "#查看标签\n",
    "label_list = list(le.classes_ )"
   ]
  },
  {
   "cell_type": "code",
   "execution_count": 68,
   "metadata": {},
   "outputs": [
    {
     "data": {
      "text/plain": [
       "['business', 'news', 'others', 'sports']"
      ]
     },
     "execution_count": 68,
     "metadata": {},
     "output_type": "execute_result"
    }
   ],
   "source": [
    "label_list"
   ]
  },
  {
   "cell_type": "markdown",
   "metadata": {},
   "source": [
    "#### 1.3 对文本进行jieba分词处理并去除停用词"
   ]
  },
  {
   "cell_type": "code",
   "execution_count": 69,
   "metadata": {},
   "outputs": [],
   "source": [
    "#建立停用词表\n",
    "buff =[]\n",
    "with open('data/stopword.txt') as fp:\n",
    "    for item in fp:\n",
    "        item = item.strip()\n",
    "        if item not in buff:\n",
    "            buff.append(item)\n",
    "stopwords = buff\n",
    "#print(stopwords)"
   ]
  },
  {
   "cell_type": "code",
   "execution_count": 70,
   "metadata": {},
   "outputs": [],
   "source": [
    "#对文本进行分词并去除停用词\n",
    "def drop_stopwords(sentences):\n",
    "    words = jieba.cut(sentences,cut_all=False)\n",
    "    out_text =[]\n",
    "    for word in words:\n",
    "        if word not in stopwords and len(word)>1:\n",
    "            out_text.append(word)\n",
    "    return out_text"
   ]
  },
  {
   "cell_type": "code",
   "execution_count": 71,
   "metadata": {
    "scrolled": false
   },
   "outputs": [],
   "source": [
    "data['text'] = data['text'].apply(lambda x:' '.join(drop_stopwords(x)))"
   ]
  },
  {
   "cell_type": "code",
   "execution_count": 72,
   "metadata": {},
   "outputs": [
    {
     "data": {
      "text/html": [
       "<div>\n",
       "<style scoped>\n",
       "    .dataframe tbody tr th:only-of-type {\n",
       "        vertical-align: middle;\n",
       "    }\n",
       "\n",
       "    .dataframe tbody tr th {\n",
       "        vertical-align: top;\n",
       "    }\n",
       "\n",
       "    .dataframe thead th {\n",
       "        text-align: right;\n",
       "    }\n",
       "</style>\n",
       "<table border=\"1\" class=\"dataframe\">\n",
       "  <thead>\n",
       "    <tr style=\"text-align: right;\">\n",
       "      <th></th>\n",
       "      <th>label</th>\n",
       "      <th>text</th>\n",
       "    </tr>\n",
       "  </thead>\n",
       "  <tbody>\n",
       "    <tr>\n",
       "      <th>0</th>\n",
       "      <td>2</td>\n",
       "      <td>高清 彭帅 谢淑薇 遗憾 逆转 出局 击掌 鼓励 责编 马克 日期 2013 10 彭帅 谢...</td>\n",
       "    </tr>\n",
       "    <tr>\n",
       "      <th>1</th>\n",
       "      <td>1</td>\n",
       "      <td>河南 周口 路边 秸秆 燃烧 幼儿 10 下午 崔先生 驾车 周口 郸城县 汲冢镇 走亲戚 ...</td>\n",
       "    </tr>\n",
       "    <tr>\n",
       "      <th>2</th>\n",
       "      <td>1</td>\n",
       "      <td>消息 138 中国 劳工 菲律宾 使馆 核实 使馆 核实 情况 中国 菲律宾 大使馆 发言人...</td>\n",
       "    </tr>\n",
       "    <tr>\n",
       "      <th>3</th>\n",
       "      <td>1</td>\n",
       "      <td>越南 军事 领导人 武元甲 大将 去世 享年 102 美国 媒体 10 报道 越南 抗法 抗...</td>\n",
       "    </tr>\n",
       "    <tr>\n",
       "      <th>4</th>\n",
       "      <td>1</td>\n",
       "      <td>西沙 搜救 发现 遇难 渔民 遗体 尚有 52 失踪 发现 遇难 渔民 遗体 尚有 52 失...</td>\n",
       "    </tr>\n",
       "    <tr>\n",
       "      <th>5</th>\n",
       "      <td>2</td>\n",
       "      <td>10 十佳 李娜 小德 球迷 抢眼 大威 文静 责编 马克 日期 2013 10 小德 支持...</td>\n",
       "    </tr>\n",
       "    <tr>\n",
       "      <th>6</th>\n",
       "      <td>2</td>\n",
       "      <td>高清 小德 速胜 高举 双臂 庆祝 鼓掌 球迷 致意 责编 马克 日期 2013 10 小德...</td>\n",
       "    </tr>\n",
       "    <tr>\n",
       "      <th>7</th>\n",
       "      <td>3</td>\n",
       "      <td>卡努特 伤愈 首发 战辽足 斯塔诺 辽足 不好 对付 高清 国安 踩场 卡努特 卖力 对抗赛...</td>\n",
       "    </tr>\n",
       "    <tr>\n",
       "      <th>8</th>\n",
       "      <td>1</td>\n",
       "      <td>宙斯 系统 成功 反导 试验 新华网 华盛顿 10 日电 记者 小春 美国国防部 成功 反导...</td>\n",
       "    </tr>\n",
       "    <tr>\n",
       "      <th>9</th>\n",
       "      <td>1</td>\n",
       "      <td>中国 建筑 俄罗斯 身亡 中国 建筑 俄罗斯 身亡 伊尔库茨克州 中国 建筑工人 在建 住宅...</td>\n",
       "    </tr>\n",
       "  </tbody>\n",
       "</table>\n",
       "</div>"
      ],
      "text/plain": [
       "   label                                               text\n",
       "0      2  高清 彭帅 谢淑薇 遗憾 逆转 出局 击掌 鼓励 责编 马克 日期 2013 10 彭帅 谢...\n",
       "1      1  河南 周口 路边 秸秆 燃烧 幼儿 10 下午 崔先生 驾车 周口 郸城县 汲冢镇 走亲戚 ...\n",
       "2      1  消息 138 中国 劳工 菲律宾 使馆 核实 使馆 核实 情况 中国 菲律宾 大使馆 发言人...\n",
       "3      1  越南 军事 领导人 武元甲 大将 去世 享年 102 美国 媒体 10 报道 越南 抗法 抗...\n",
       "4      1  西沙 搜救 发现 遇难 渔民 遗体 尚有 52 失踪 发现 遇难 渔民 遗体 尚有 52 失...\n",
       "5      2  10 十佳 李娜 小德 球迷 抢眼 大威 文静 责编 马克 日期 2013 10 小德 支持...\n",
       "6      2  高清 小德 速胜 高举 双臂 庆祝 鼓掌 球迷 致意 责编 马克 日期 2013 10 小德...\n",
       "7      3  卡努特 伤愈 首发 战辽足 斯塔诺 辽足 不好 对付 高清 国安 踩场 卡努特 卖力 对抗赛...\n",
       "8      1  宙斯 系统 成功 反导 试验 新华网 华盛顿 10 日电 记者 小春 美国国防部 成功 反导...\n",
       "9      1  中国 建筑 俄罗斯 身亡 中国 建筑 俄罗斯 身亡 伊尔库茨克州 中国 建筑工人 在建 住宅..."
      ]
     },
     "execution_count": 72,
     "metadata": {},
     "output_type": "execute_result"
    }
   ],
   "source": [
    "data.head(10)"
   ]
  },
  {
   "cell_type": "markdown",
   "metadata": {},
   "source": [
    "### Step 2 搭建模型"
   ]
  },
  {
   "cell_type": "markdown",
   "metadata": {},
   "source": [
    "#### 2.1 提取特征"
   ]
  },
  {
   "cell_type": "code",
   "execution_count": 73,
   "metadata": {},
   "outputs": [],
   "source": [
    "from keras.preprocessing.text import Tokenizer\n",
    "from keras.preprocessing.sequence import pad_sequences\n",
    "from keras.utils import to_categorical\n",
    "\n",
    "maxlen = 100 \n",
    "max_features = 10000\n",
    "tokenizer = Tokenizer(max_features)\n",
    "tokenizer.fit_on_texts(data['text'])\n",
    "sequences = tokenizer.texts_to_sequences(data['text'])\n",
    "x = pad_sequences(sequences, maxlen)\n",
    "\n",
    "#将标签变成one-hot形式\n",
    "y = to_categorical(data['label'])"
   ]
  },
  {
   "cell_type": "code",
   "execution_count": 74,
   "metadata": {},
   "outputs": [
    {
     "data": {
      "text/plain": [
       "(5921, 100)"
      ]
     },
     "execution_count": 74,
     "metadata": {},
     "output_type": "execute_result"
    }
   ],
   "source": [
    "x.shape"
   ]
  },
  {
   "cell_type": "code",
   "execution_count": 75,
   "metadata": {},
   "outputs": [
    {
     "data": {
      "text/plain": [
       "(5921, 4)"
      ]
     },
     "execution_count": 75,
     "metadata": {},
     "output_type": "execute_result"
    }
   ],
   "source": [
    "y.shape"
   ]
  },
  {
   "cell_type": "code",
   "execution_count": 76,
   "metadata": {},
   "outputs": [],
   "source": [
    "# 划分训练集、测试集\n",
    "from sklearn.cross_validation import train_test_split\n",
    "\n",
    "x1_train, x1_test,y1_train,y1_test = train_test_split(x,y ,test_size=0.3)"
   ]
  },
  {
   "cell_type": "markdown",
   "metadata": {},
   "source": [
    "#### 2.2 搭建模型"
   ]
  },
  {
   "cell_type": "code",
   "execution_count": 77,
   "metadata": {},
   "outputs": [
    {
     "name": "stdout",
     "output_type": "stream",
     "text": [
      "WARNING:tensorflow:From F:\\Anaconda3\\lib\\site-packages\\tensorflow\\python\\framework\\op_def_library.py:263: colocate_with (from tensorflow.python.framework.ops) is deprecated and will be removed in a future version.\n",
      "Instructions for updating:\n",
      "Colocations handled automatically by placer.\n",
      "WARNING:tensorflow:From F:\\Anaconda3\\lib\\site-packages\\tensorflow\\python\\ops\\math_ops.py:3066: to_int32 (from tensorflow.python.ops.math_ops) is deprecated and will be removed in a future version.\n",
      "Instructions for updating:\n",
      "Use tf.cast instead.\n",
      "Train on 3315 samples, validate on 829 samples\n",
      "Epoch 1/10\n",
      "3315/3315 [==============================] - 3s 1ms/step - loss: 0.5000 - acc: 0.7707 - val_loss: 0.4339 - val_acc: 0.8118\n",
      "Epoch 2/10\n",
      "3315/3315 [==============================] - 2s 656us/step - loss: 0.4125 - acc: 0.8381 - val_loss: 0.3978 - val_acc: 0.8347\n",
      "Epoch 3/10\n",
      "3315/3315 [==============================] - 2s 658us/step - loss: 0.3553 - acc: 0.8538 - val_loss: 0.3484 - val_acc: 0.8543\n",
      "Epoch 4/10\n",
      "3315/3315 [==============================] - 2s 667us/step - loss: 0.2845 - acc: 0.8942 - val_loss: 0.2959 - val_acc: 0.8863\n",
      "Epoch 5/10\n",
      "3315/3315 [==============================] - 2s 648us/step - loss: 0.2407 - acc: 0.9068 - val_loss: 0.3193 - val_acc: 0.8800\n",
      "Epoch 6/10\n",
      "3315/3315 [==============================] - 2s 675us/step - loss: 0.1997 - acc: 0.9231 - val_loss: 0.2701 - val_acc: 0.8902\n",
      "Epoch 7/10\n",
      "3315/3315 [==============================] - 2s 700us/step - loss: 0.1664 - acc: 0.9337 - val_loss: 0.3137 - val_acc: 0.8830\n",
      "Epoch 8/10\n",
      "3315/3315 [==============================] - 2s 722us/step - loss: 0.1374 - acc: 0.9541 - val_loss: 0.3280 - val_acc: 0.8920\n",
      "Epoch 9/10\n",
      "3315/3315 [==============================] - 2s 700us/step - loss: 0.1173 - acc: 0.9692 - val_loss: 0.2866 - val_acc: 0.9038\n",
      "Epoch 10/10\n",
      "3315/3315 [==============================] - 2s 690us/step - loss: 0.1041 - acc: 0.9735 - val_loss: 0.3009 - val_acc: 0.9044\n"
     ]
    }
   ],
   "source": [
    "from keras.layers import LSTM\n",
    "\n",
    "model = Sequential()\n",
    "model.add(Embedding(max_features,32))\n",
    "model.add(LSTM(32))\n",
    "model.add(Dense(4,activation='sigmoid'))\n",
    "\n",
    "model.compile(optimizer='rmsprop',\n",
    "             loss='binary_crossentropy',\n",
    "             metrics=['acc'])\n",
    "\n",
    "history = model.fit(x1_train,y1_train,\n",
    "                   epochs = 10,\n",
    "                   batch_size=50,\n",
    "                   validation_split=0.2)"
   ]
  },
  {
   "cell_type": "code",
   "execution_count": 78,
   "metadata": {},
   "outputs": [
    {
     "name": "stdout",
     "output_type": "stream",
     "text": [
      "1777/1777 [==============================] - 0s 117us/step\n",
      "test accuracy:[0.3126860215010506, 0.9040517700342362]\n"
     ]
    }
   ],
   "source": [
    "accuracy = model.evaluate(x1_test, y1_test, batch_size = 50)\n",
    "print(\"test accuracy:{}\".format(accuracy))"
   ]
  },
  {
   "cell_type": "code",
   "execution_count": 79,
   "metadata": {},
   "outputs": [
    {
     "data": {
      "image/png": "[encoded data removed]",
      "text/plain": [
       "<Figure size 432x288 with 1 Axes>"
      ]
     },
     "metadata": {
      "needs_background": "light"
     },
     "output_type": "display_data"
    },
    {
     "data": {
      "image/png": "[encoded data removed]",
      "text/plain": [
       "<Figure size 432x288 with 1 Axes>"
      ]
     },
     "metadata": {
      "needs_background": "light"
     },
     "output_type": "display_data"
    }
   ],
   "source": [
    "import matplotlib.pyplot as plt\n",
    "%matplotlib inline\n",
    "def plot_curve(history):\n",
    "    acc = history.history['acc']\n",
    "    val_acc = history.history['val_acc']\n",
    "    loss = history.history['loss']\n",
    "    val_loss = history.history['val_loss']\n",
    "    \n",
    "    epochs = range(1,len(acc)+1)\n",
    "    \n",
    "    plt.plot(epochs,acc,'bo',label='Training acc',color='red')\n",
    "    plt.plot(epochs,val_acc,'b',label='Validation acc')\n",
    "    plt.title('Training and validation accuracy')\n",
    "    plt.legend()\n",
    "    \n",
    "    plt.figure()\n",
    "    \n",
    "    plt.plot(epochs,loss,'bo',label='Training loss',color='red')\n",
    "    plt.plot(epochs,val_loss,'b',label='Validation loss')\n",
    "    plt.title('Training and validation loss')\n",
    "    plt.legend()\n",
    "    \n",
    "plot_curve(history)"
   ]
  },
  {
   "cell_type": "code",
   "execution_count": null,
   "metadata": {},
   "outputs": [],
   "source": []
  }
 ],
 "metadata": {
  "kernelspec": {
   "display_name": "Python 3",
   "language": "python",
   "name": "python3"
  },
  "language_info": {
   "codemirror_mode": {
    "name": "ipython",
    "version": 3
   },
   "file_extension": ".py",
   "mimetype": "text/x-python",
   "name": "python",
   "nbconvert_exporter": "python",
   "pygments_lexer": "ipython3",
   "version": "3.6.8"
  }
 },
 "nbformat": 4,
 "nbformat_minor": 2
}
